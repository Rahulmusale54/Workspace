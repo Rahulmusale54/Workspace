{
  "nbformat": 4,
  "nbformat_minor": 0,
  "metadata": {
    "colab": {
      "provenance": []
    },
    "kernelspec": {
      "name": "python3",
      "display_name": "Python 3"
    },
    "language_info": {
      "name": "python"
    }
  },
  "cells": [
    {
      "cell_type": "code",
      "execution_count": 7,
      "metadata": {
        "colab": {
          "base_uri": "https://localhost:8080/"
        },
        "id": "u24nVbD1IKyj",
        "outputId": "62e8a291-1d84-4e6b-ffeb-ba7c43ba2c0c"
      },
      "outputs": [
        {
          "output_type": "stream",
          "name": "stdout",
          "text": [
            "Rahulmusale1\n",
            "original string:  Rahulmusale1\n",
            "encrypted string:  b'd\\xc6\\t\\xef\\x03z\\xf7?\\xf1\\x8d\\xf2\\x1d\\xfb\\xbb\\xce$\\x1f\\xa4\\xef\\xce\\xda\\xccs\\x04\\xad\\x0b;~D\\xda\\xf7\\x93SN\\x12\\xad\\xdaZ\\xfa\\x06\\x06\\xf7\\xcd\\xb1\\x94\\xd8\\x0e\\xe3\\xff\\xcf\\xebZ>\\xd0\\xb7\\xd1\\xe8P\\x80\\xf2CD\\x976'\n",
            "decrypted string:  Rahulmusale1\n"
          ]
        }
      ],
      "source": [
        "import rsa\n",
        "\n",
        "referenceid =input()\n",
        "a,d=0,0\n",
        "\n",
        "if len(referenceid) == 12:\n",
        "  for i in referenceid:\n",
        "    if i.isdigit():\n",
        "      d +=1\n",
        "    if i.isalpha():\n",
        "      a +=1\n",
        "  if a>=1 and d>=1:\n",
        "    publicKey, privateKey = rsa.newkeys(512)\n",
        "    encMessage = rsa.encrypt(referenceid.encode(),\n",
        "                         publicKey)\n",
        "    print(\"original string: \", referenceid)\n",
        "    print(\"encrypted string: \", encMessage)\n",
        "    decMessage = rsa.decrypt(encMessage, privateKey).decode()\n",
        "    print(\"decrypted string: \", decMessage)\n",
        "else:\n",
        "  print(\"invalid reference id\")\n",
        "\n",
        "\n"
      ]
    },
    {
      "cell_type": "code",
      "source": [],
      "metadata": {
        "id": "guz_kOEsIkYq"
      },
      "execution_count": null,
      "outputs": []
    }
  ]
}