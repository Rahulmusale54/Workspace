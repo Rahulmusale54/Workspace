{
  "nbformat": 4,
  "nbformat_minor": 0,
  "metadata": {
    "colab": {
      "provenance": []
    },
    "kernelspec": {
      "name": "python3",
      "display_name": "Python 3"
    },
    "language_info": {
      "name": "python"
    }
  },
  "cells": [
    {
      "cell_type": "code",
      "execution_count": 1,
      "metadata": {
        "colab": {
          "base_uri": "https://localhost:8080/"
        },
        "id": "5ZSJ4oTm33IJ",
        "outputId": "4ddc98e8-f5b4-4e72-f4f6-2877e64c5398"
      },
      "outputs": [
        {
          "output_type": "stream",
          "name": "stdout",
          "text": [
            "4\n"
          ]
        }
      ],
      "source": [
        "nums =set([1,1,2,3,3,3,4,4])\n",
        "print(len(nums))\n",
        "\n",
        "#Answer us 4"
      ]
    },
    {
      "cell_type": "code",
      "source": [
        "d ={\"john\":40, \"peter\":45}\n",
        "print(list(d.keys()))\n",
        "\n",
        "#Answer is ['john', 'peter']"
      ],
      "metadata": {
        "colab": {
          "base_uri": "https://localhost:8080/"
        },
        "id": "rPjR6zw04Lsy",
        "outputId": "077e67f4-fd9a-4331-ef4c-3fdb64181eb6"
      },
      "execution_count": 2,
      "outputs": [
        {
          "output_type": "stream",
          "name": "stdout",
          "text": [
            "['john', 'peter']\n"
          ]
        }
      ]
    },
    {
      "cell_type": "markdown",
      "source": [
        "# A website requires a user to input username and password to register. Write a program to check the validity of password given by user. Following are the criteria for checking password:"
      ],
      "metadata": {
        "id": "z_tQbxJg6yK6"
      }
    },
    {
      "cell_type": "code",
      "source": [
        "def validpassword(password):\n",
        "  l,u,d,s=0,0,0,0\n",
        "  if len(password) >=6 and len(password) <=12:\n",
        "    for i in password:\n",
        "      if i.isdigit():\n",
        "        d+=1\n",
        "      if i.isupper():\n",
        "        u+=1\n",
        "      if i.islower():\n",
        "        l +=1\n",
        "      if i in [\"$\",\"#\",\"@\"]:\n",
        "        s += 1\n",
        "  if l >= 1 and u >=1 and d >=1 and s >= 1:\n",
        "    print(\"password is valid\")\n",
        "  else:  \n",
        "    print(\"passowrd is not valid\")\n",
        "\n",
        "password = input()\n",
        "validpassword(password)\n"
      ],
      "metadata": {
        "colab": {
          "base_uri": "https://localhost:8080/"
        },
        "id": "dJC9FJPH4XZ0",
        "outputId": "61012d19-8167-41a3-83e7-660d9cb0cec5"
      },
      "execution_count": 4,
      "outputs": [
        {
          "output_type": "stream",
          "name": "stdout",
          "text": [
            "Rahulmusale\n",
            "passowrd is not valid\n"
          ]
        }
      ]
    },
    {
      "cell_type": "markdown",
      "source": [
        "Write a for loop that prints all elements of a list and their position in the list.a = [4,7,3,2,5,9]"
      ],
      "metadata": {
        "id": "emrHLh-jEWeK"
      }
    },
    {
      "cell_type": "code",
      "source": [
        "posiion=0\n",
        "a = [4,7,3,2,5,9]\n",
        "for i in a:\n",
        "  print(i,\"postion=\",posiion)\n",
        "  posiion +=1"
      ],
      "metadata": {
        "colab": {
          "base_uri": "https://localhost:8080/"
        },
        "id": "BdqfUOzPD5xW",
        "outputId": "03412531-d35a-49bd-8d40-13be7826b883"
      },
      "execution_count": 5,
      "outputs": [
        {
          "output_type": "stream",
          "name": "stdout",
          "text": [
            "4 postion= 0\n",
            "7 postion= 1\n",
            "3 postion= 2\n",
            "2 postion= 3\n",
            "5 postion= 4\n",
            "9 postion= 5\n"
          ]
        }
      ]
    },
    {
      "cell_type": "markdown",
      "source": [
        "5)Please   write   a   program   which accepts  a   string   from   console   and   print   the characters that have even indexes.\n",
        "H1e2l3l4o5w6o7r8l9d"
      ],
      "metadata": {
        "id": "PxAU9qAtGQSN"
      }
    },
    {
      "cell_type": "code",
      "source": [
        "#H1e2l3l4o5w6o7r8l9d\n",
        "S = input()\n",
        "postion = 0\n",
        "outputs=[S[i] for i in range(len(S)) if i%2==0]\n",
        "print(\"\".join(map(str,outputs)))"
      ],
      "metadata": {
        "colab": {
          "base_uri": "https://localhost:8080/"
        },
        "id": "-2titWYYFR8u",
        "outputId": "dc34ddcf-5a04-489a-e9a1-e9d68a571670"
      },
      "execution_count": 16,
      "outputs": [
        {
          "output_type": "stream",
          "name": "stdout",
          "text": [
            "H1e2l3l4o5w6o7r8l9d\n",
            "Helloworld\n"
          ]
        }
      ]
    },
    {
      "cell_type": "markdown",
      "source": [
        "6)Please write a program which accepts a string from console and print it in reverse order."
      ],
      "metadata": {
        "id": "UmnR6bpMIbaA"
      }
    },
    {
      "cell_type": "code",
      "source": [
        "import string\n",
        "S = input()\n",
        "print(S[::-1])"
      ],
      "metadata": {
        "colab": {
          "base_uri": "https://localhost:8080/"
        },
        "id": "VnUuhxJxGs6E",
        "outputId": "989e7d09-bfb8-4f00-c40d-44e0127d9e38"
      },
      "execution_count": 28,
      "outputs": [
        {
          "output_type": "stream",
          "name": "stdout",
          "text": [
            "rise to vote sir\n",
            "ris etov ot esir\n"
          ]
        }
      ]
    },
    {
      "cell_type": "markdown",
      "source": [
        "7)Please write a program which count and print the numbers of each character in a string input by console"
      ],
      "metadata": {
        "id": "gIuxVNtlPGWq"
      }
    },
    {
      "cell_type": "code",
      "source": [
        "\n",
        "#abcdefgabc\n",
        "S = input()\n",
        "tempstring =\"\"\n",
        "for i in S:\n",
        "  if i not in tempList:\n",
        "    print(i, S.count(i))\n",
        "    tempList=tempList+i"
      ],
      "metadata": {
        "colab": {
          "base_uri": "https://localhost:8080/"
        },
        "id": "4tL6fjAwPFv9",
        "outputId": "f9d99b61-a7c9-436f-c2d9-66809257c77d"
      },
      "execution_count": 41,
      "outputs": [
        {
          "output_type": "stream",
          "name": "stdout",
          "text": [
            "abcdefgabc\n",
            "a 2\n",
            "b 2\n",
            "c 2\n",
            "d 1\n",
            "e 1\n",
            "f 1\n",
            "g 1\n"
          ]
        }
      ]
    },
    {
      "cell_type": "markdown",
      "source": [
        "8)With   two   given   lists   [1,3,6,78,35,55]   and   [12,24,35,24,88,120,155],   write   a program to make a list whose elements are intersection of the above given lists"
      ],
      "metadata": {
        "id": "TNHZX8nDYc6g"
      }
    },
    {
      "cell_type": "code",
      "source": [
        "a = [1,3,6,78,35,55]\n",
        "b = [12,24,35,24,88,120,155]\n",
        "IntersectionList =[ i for i in a if i in b]\n",
        "# IntersectionList =[ ]\n",
        "# for i in a:\n",
        "#   if i in b:\n",
        "#     IntersectionList.append(i)\n",
        "\n",
        "print(IntersectionList)"
      ],
      "metadata": {
        "colab": {
          "base_uri": "https://localhost:8080/"
        },
        "id": "Lx6Gw_GxJ8Gi",
        "outputId": "d3a7f4cb-a4b3-4148-d37f-7bab62281da3"
      },
      "execution_count": 46,
      "outputs": [
        {
          "output_type": "stream",
          "name": "stdout",
          "text": [
            "[35]\n"
          ]
        }
      ]
    },
    {
      "cell_type": "markdown",
      "source": [
        "9)With a given list [12,24,35,24,88,120,155,88,120,155], write a program to print this list after removing all duplicate values with original order reserved."
      ],
      "metadata": {
        "id": "TLyiJnUYZbds"
      }
    },
    {
      "cell_type": "code",
      "source": [
        "a=[12,24,35,24,88,120,155,88,120,155]\n",
        "newlist=[]\n",
        "for i in a:\n",
        "  if i in newlist:\n",
        "    pass\n",
        "  else:\n",
        "    newlist.append(i)\n",
        "\n",
        "print(newlist)"
      ],
      "metadata": {
        "colab": {
          "base_uri": "https://localhost:8080/"
        },
        "id": "ShvlkYOoY9jN",
        "outputId": "88d0b83c-d9aa-4d0c-a655-a1719740f501"
      },
      "execution_count": 57,
      "outputs": [
        {
          "output_type": "stream",
          "name": "stdout",
          "text": [
            "[12, 24, 35, 88, 120, 155]\n"
          ]
        }
      ]
    },
    {
      "cell_type": "code",
      "source": [],
      "metadata": {
        "id": "wBbDMKe8fXb6"
      },
      "execution_count": null,
      "outputs": []
    },
    {
      "cell_type": "markdown",
      "source": [
        "10)By using list comprehension, please write a program to print the list after removing the value 24 in [12,24,35,24,88,120,155]"
      ],
      "metadata": {
        "id": "wHU5QSiueiPJ"
      }
    },
    {
      "cell_type": "code",
      "source": [
        "l = [12,24,35,24,88,120,155]\n",
        "newlist = [i for i in l if i!=24]\n",
        "# newlist =[]\n",
        "# for i in l:\n",
        "#   if i in newlist:\n",
        "#     pass\n",
        "#   else:\n",
        "#     newlist.append(i)\n",
        "print(newlist)"
      ],
      "metadata": {
        "colab": {
          "base_uri": "https://localhost:8080/"
        },
        "id": "E6sUF5hMdptz",
        "outputId": "5b7b2afe-04d9-45e8-f57c-dcd0f5b9a080"
      },
      "execution_count": 65,
      "outputs": [
        {
          "output_type": "stream",
          "name": "stdout",
          "text": [
            "[12, 35, 88, 120, 155]\n"
          ]
        }
      ]
    },
    {
      "cell_type": "markdown",
      "source": [
        "11)By using list comprehension, please write a program to print the list after removing the 0th,4th,5th numbers in [12,24,35,70,88,120,155]"
      ],
      "metadata": {
        "id": "yuC1r27BgrP8"
      }
    },
    {
      "cell_type": "code",
      "source": [
        "a = [12,24,35,70,88,120,155]\n",
        "b =[0,4,5]\n",
        "newlist = [a[i] for i in range(len(a)) if i not in b]\n",
        "print(newlist)"
      ],
      "metadata": {
        "colab": {
          "base_uri": "https://localhost:8080/"
        },
        "id": "6ghPyR-2e2Fu",
        "outputId": "34b7ec8d-d140-43e6-c9d1-f7d055ab5e96"
      },
      "execution_count": 69,
      "outputs": [
        {
          "output_type": "stream",
          "name": "stdout",
          "text": [
            "[24, 35, 70, 155]\n"
          ]
        }
      ]
    },
    {
      "cell_type": "markdown",
      "source": [
        "12)By using list comprehension, please write a program to print the list after removing delete numbers which are divisible by 5 and 7 in [12,24,35,70,88,120,155]"
      ],
      "metadata": {
        "id": "tIchTcUZiucj"
      }
    },
    {
      "cell_type": "code",
      "source": [
        "a = [12,24,35,70,88,120,155]\n",
        "newlist = [i for i in a if i%5==0 and i%7==0]\n",
        "print(newlist)"
      ],
      "metadata": {
        "colab": {
          "base_uri": "https://localhost:8080/"
        },
        "id": "blyk6olOiIwH",
        "outputId": "7ee6ee09-c166-4cf1-bc55-e08adcfc445e"
      },
      "execution_count": 70,
      "outputs": [
        {
          "output_type": "stream",
          "name": "stdout",
          "text": [
            "[35, 70]\n"
          ]
        }
      ]
    },
    {
      "cell_type": "code",
      "source": [],
      "metadata": {
        "id": "f9ZWU00wFZYZ"
      },
      "execution_count": null,
      "outputs": []
    },
    {
      "cell_type": "markdown",
      "source": [
        "13)Please  write  a  program  to  randomly  generate  a  list  with  5  numbers,  which  are divisible by 5 and 7 , between 1 and 1000 inclusive"
      ],
      "metadata": {
        "id": "onEUlMt0jibT"
      }
    },
    {
      "cell_type": "code",
      "source": [
        "import random\n",
        "templist=[i for i in range(1,1000) if i%5==0 and i%7==0]\n",
        "print(random.sample(templist,5))"
      ],
      "metadata": {
        "colab": {
          "base_uri": "https://localhost:8080/"
        },
        "id": "EfoNbjqOjS63",
        "outputId": "c56aed82-9fe0-4c2e-f220-0dfc08cd966f"
      },
      "execution_count": 4,
      "outputs": [
        {
          "output_type": "stream",
          "name": "stdout",
          "text": [
            "[805, 735, 420, 350, 980]\n"
          ]
        }
      ]
    },
    {
      "cell_type": "markdown",
      "source": [
        "14)Write  a  program  to  compute  1/2+2/3+3/4+...+n/n+1  with  a  given  n  input  by console (n>0)"
      ],
      "metadata": {
        "id": "LKgDCUNuGTKz"
      }
    },
    {
      "cell_type": "code",
      "source": [
        "num = int(input(\"Enter a number: \"))\n",
        "newnum = 0\n",
        "\n",
        "for each in range(1,num+1):\n",
        "    newnum = newnum+(each/(each+1))\n",
        "\n",
        "print(\"computed value : \",format(round(newnum,2)))"
      ],
      "metadata": {
        "colab": {
          "base_uri": "https://localhost:8080/"
        },
        "id": "hFpe5eqIGNP3",
        "outputId": "33398c15-24c5-4dc3-fffc-4e08db5772e7"
      },
      "execution_count": 6,
      "outputs": [
        {
          "output_type": "stream",
          "name": "stdout",
          "text": [
            "Enter a number: 5\n",
            "computed value :  3.55\n"
          ]
        }
      ]
    }
  ]
}